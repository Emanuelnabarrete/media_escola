{
  "nbformat": 4,
  "nbformat_minor": 0,
  "metadata": {
    "colab": {
      "provenance": [],
      "authorship_tag": "ABX9TyMpSNq1YaVn7j1TjtgHCGwc",
      "include_colab_link": true
    },
    "kernelspec": {
      "name": "python3",
      "display_name": "Python 3"
    },
    "language_info": {
      "name": "python"
    }
  },
  "cells": [
    {
      "cell_type": "markdown",
      "metadata": {
        "id": "view-in-github",
        "colab_type": "text"
      },
      "source": [
        "<a href=\"https://colab.research.google.com/github/Emanuelnabarrete/media_escola/blob/main/media.ipynb\" target=\"_parent\"><img src=\"https://colab.research.google.com/assets/colab-badge.svg\" alt=\"Open In Colab\"/></a>"
      ]
    },
    {
      "cell_type": "code",
      "execution_count": 6,
      "metadata": {
        "colab": {
          "base_uri": "https://localhost:8080/"
        },
        "id": "5xqUsCQu7wie",
        "outputId": "fd5b9b7f-92cf-4555-9bc8-f1976efc32d5"
      },
      "outputs": [
        {
          "output_type": "stream",
          "name": "stdout",
          "text": [
            "Qual é a média: 10\n",
            "Qual é a média: 3\n",
            "Qual é a média: 6\n",
            "Qual é a média: 9\n",
            "Parabens, você passou!!!!\n",
            "7.0\n"
          ]
        }
      ],
      "source": [
        "def media_escola():\n",
        "  media_primeiro = input(f'Qual é a média: ' )\n",
        "  media_segundo = input(f'Qual é a média: ' )\n",
        "  media_terceiro = input(f'Qual é a média: ' )\n",
        "  media_quarto = input(f'Qual é a média: ' )\n",
        "  media_primeiro = int(media_primeiro)\n",
        "  media_segundo = int(media_segundo)\n",
        "  media_terceiro = int(media_terceiro)\n",
        "  media_quarto = int(media_quarto)\n",
        "\n",
        "  media = (media_primeiro + media_segundo + media_terceiro + media_quarto) /4\n",
        "  if media >=6:\n",
        "    print('Parabens, você passou!!!!')\n",
        "    print(media)\n",
        "\n",
        "  else:\n",
        "    print('Você não passou, semana que vem começaremos os estudos de recuperação!!')\n",
        "    print(media)\n",
        "media_escola()"
      ]
    },
    {
      "cell_type": "code",
      "source": [
        "\n"
      ],
      "metadata": {
        "id": "vzArox798DHr"
      },
      "execution_count": null,
      "outputs": []
    }
  ]
}